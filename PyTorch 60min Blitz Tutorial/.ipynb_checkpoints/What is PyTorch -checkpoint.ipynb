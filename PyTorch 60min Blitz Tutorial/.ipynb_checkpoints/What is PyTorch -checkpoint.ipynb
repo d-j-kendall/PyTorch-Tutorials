{
 "cells": [
  {
   "cell_type": "code",
   "execution_count": 7,
   "metadata": {},
   "outputs": [
    {
     "name": "stdout",
     "output_type": "stream",
     "text": [
      "tensor([[0.0000e+00, 0.0000e+00, 0.0000e+00],\n",
      "        [0.0000e+00, 0.0000e+00, 0.0000e+00],\n",
      "        [0.0000e+00, 0.0000e+00, 0.0000e+00],\n",
      "        [0.0000e+00, 1.6423e-42, 0.0000e+00],\n",
      "        [0.0000e+00, 3.5833e-14, 0.0000e+00]])\n"
     ]
    }
   ],
   "source": [
    "from __future__ import print_function\n",
    "import torch\n",
    "import numpy as np\n",
    "\n",
    "x = torch.empty(5,3)\n",
    "print (x)\n"
   ]
  },
  {
   "cell_type": "code",
   "execution_count": 8,
   "metadata": {},
   "outputs": [
    {
     "name": "stdout",
     "output_type": "stream",
     "text": [
      "tensor([[0.7848, 0.6036, 0.0524],\n",
      "        [0.2038, 0.2866, 0.8084],\n",
      "        [0.8100, 0.1398, 0.5143],\n",
      "        [0.7171, 0.4245, 0.4150],\n",
      "        [0.6497, 0.4454, 0.7331]])\n"
     ]
    }
   ],
   "source": [
    "# construct randomly initialized matrix\n",
    "x = torch.rand(5,3)\n",
    "print (x)"
   ]
  },
  {
   "cell_type": "code",
   "execution_count": 9,
   "metadata": {},
   "outputs": [
    {
     "name": "stdout",
     "output_type": "stream",
     "text": [
      "tensor([[0, 0, 0],\n",
      "        [0, 0, 0],\n",
      "        [0, 0, 0],\n",
      "        [0, 0, 0],\n",
      "        [0, 0, 0]])\n"
     ]
    }
   ],
   "source": [
    "#construct a matrix filled zeros and of dtype long\n",
    "x = torch.zeros(5,3, dtype=torch.long)\n",
    "print(x)"
   ]
  },
  {
   "cell_type": "code",
   "execution_count": 10,
   "metadata": {},
   "outputs": [
    {
     "name": "stdout",
     "output_type": "stream",
     "text": [
      "tensor([5.5000, 3.0000])\n"
     ]
    }
   ],
   "source": [
    "x = torch.tensor([5.5,3])\n",
    "print(x)"
   ]
  },
  {
   "cell_type": "code",
   "execution_count": 11,
   "metadata": {},
   "outputs": [
    {
     "name": "stdout",
     "output_type": "stream",
     "text": [
      "tensor([[1., 1., 1.],\n",
      "        [1., 1., 1.],\n",
      "        [1., 1., 1.],\n",
      "        [1., 1., 1.],\n",
      "        [1., 1., 1.]], dtype=torch.float64)\n",
      "tensor([[ 0.9566,  0.0972, -0.0341],\n",
      "        [-1.0936, -0.1803, -2.0771],\n",
      "        [ 0.9367,  1.4410,  0.0566],\n",
      "        [-1.2937, -0.3992,  0.5089],\n",
      "        [-0.2590, -2.0443,  1.2980]])\n"
     ]
    }
   ],
   "source": [
    "x = x.new_ones(5,3, dtype = torch.double)\n",
    "print(x)\n",
    "\n",
    "x = torch.randn_like(x, dtype=torch.float)\n",
    "print(x)"
   ]
  },
  {
   "cell_type": "code",
   "execution_count": 12,
   "metadata": {},
   "outputs": [
    {
     "name": "stdout",
     "output_type": "stream",
     "text": [
      "torch.Size([5, 3])\n"
     ]
    }
   ],
   "source": [
    "print(x.size())"
   ]
  },
  {
   "cell_type": "code",
   "execution_count": 14,
   "metadata": {},
   "outputs": [
    {
     "name": "stdout",
     "output_type": "stream",
     "text": [
      "tensor([[0.8103, 0.8359, 0.0110],\n",
      "        [0.7198, 0.3076, 0.6832],\n",
      "        [0.3610, 0.2106, 0.3006],\n",
      "        [0.4417, 0.1559, 0.4684],\n",
      "        [0.9822, 0.5739, 0.4693]])\n",
      "tensor([[ 1.7669,  0.9330, -0.0231],\n",
      "        [-0.3738,  0.1273, -1.3940],\n",
      "        [ 1.2977,  1.6516,  0.3572],\n",
      "        [-0.8520, -0.2434,  0.9773],\n",
      "        [ 0.7232, -1.4704,  1.7673]])\n"
     ]
    }
   ],
   "source": [
    "y = torch.rand(5,3)\n",
    "print (y)\n",
    "\n",
    "print ( x + y)"
   ]
  },
  {
   "cell_type": "code",
   "execution_count": 15,
   "metadata": {},
   "outputs": [
    {
     "name": "stdout",
     "output_type": "stream",
     "text": [
      "tensor([[ 1.7669,  0.9330, -0.0231],\n",
      "        [-0.3738,  0.1273, -1.3940],\n",
      "        [ 1.2977,  1.6516,  0.3572],\n",
      "        [-0.8520, -0.2434,  0.9773],\n",
      "        [ 0.7232, -1.4704,  1.7673]])\n"
     ]
    }
   ],
   "source": [
    "print(torch.add(x,y))"
   ]
  },
  {
   "cell_type": "code",
   "execution_count": 16,
   "metadata": {},
   "outputs": [
    {
     "name": "stdout",
     "output_type": "stream",
     "text": [
      "tensor([[ 1.7669,  0.9330, -0.0231],\n",
      "        [-0.3738,  0.1273, -1.3940],\n",
      "        [ 1.2977,  1.6516,  0.3572],\n",
      "        [-0.8520, -0.2434,  0.9773],\n",
      "        [ 0.7232, -1.4704,  1.7673]])\n"
     ]
    }
   ],
   "source": [
    "result = torch.empty(5,3)\n",
    "torch.add(x,y, out=result)\n",
    "print(result)"
   ]
  },
  {
   "cell_type": "code",
   "execution_count": 17,
   "metadata": {},
   "outputs": [
    {
     "name": "stdout",
     "output_type": "stream",
     "text": [
      "tensor([[ 1.7669,  0.9330, -0.0231],\n",
      "        [-0.3738,  0.1273, -1.3940],\n",
      "        [ 1.2977,  1.6516,  0.3572],\n",
      "        [-0.8520, -0.2434,  0.9773],\n",
      "        [ 0.7232, -1.4704,  1.7673]])\n"
     ]
    }
   ],
   "source": [
    "y.add_(x)\n",
    "print(y)"
   ]
  },
  {
   "cell_type": "code",
   "execution_count": 22,
   "metadata": {},
   "outputs": [
    {
     "name": "stdout",
     "output_type": "stream",
     "text": [
      "tensor([ 0.0972, -0.1803,  1.4410, -0.3992, -2.0443])\n"
     ]
    }
   ],
   "source": [
    "print(x[:,1])"
   ]
  },
  {
   "cell_type": "code",
   "execution_count": 30,
   "metadata": {},
   "outputs": [
    {
     "name": "stdout",
     "output_type": "stream",
     "text": [
      "tensor([[0.1543, 0.2799, 0.9314, 0.0080],\n",
      "        [0.7056, 0.4298, 0.7164, 0.0554],\n",
      "        [0.4981, 0.2363, 0.7104, 0.9398],\n",
      "        [0.3726, 0.1917, 0.1160, 0.3298]])\n",
      "tensor([0.1543, 0.2799, 0.9314, 0.0080, 0.7056, 0.4298, 0.7164, 0.0554, 0.4981,\n",
      "        0.2363, 0.7104, 0.9398, 0.3726, 0.1917, 0.1160, 0.3298])\n",
      "tensor([[0.1543, 0.2799, 0.9314, 0.0080, 0.7056, 0.4298, 0.7164, 0.0554],\n",
      "        [0.4981, 0.2363, 0.7104, 0.9398, 0.3726, 0.1917, 0.1160, 0.3298]])\n",
      "torch.Size([4, 4]) torch.Size([16]) torch.Size([2, 8])\n"
     ]
    }
   ],
   "source": [
    "x = torch.rand(4,4)\n",
    "\n",
    "print (x)\n",
    "\n",
    "y = x.view(16) # turns into 16 element vector\n",
    "\n",
    "print (y)\n",
    "\n",
    "z = x.view(-1,8) # -1 is inferred from 8 columns\n",
    "\n",
    "print (z)\n",
    "\n",
    "print(x.size() , y.size(), z.size())\n",
    "\n"
   ]
  },
  {
   "cell_type": "code",
   "execution_count": 31,
   "metadata": {},
   "outputs": [
    {
     "name": "stdout",
     "output_type": "stream",
     "text": [
      "tensor([-2.5636])\n",
      "-2.5635855197906494\n"
     ]
    }
   ],
   "source": [
    "x = torch.randn(1)\n",
    "print(x)\n",
    "print(x.item())"
   ]
  },
  {
   "cell_type": "code",
   "execution_count": 32,
   "metadata": {},
   "outputs": [
    {
     "name": "stdout",
     "output_type": "stream",
     "text": [
      "tensor([1., 1., 1., 1., 1.])\n",
      "[1. 1. 1. 1. 1.]\n"
     ]
    }
   ],
   "source": [
    "# Converting a Torch Tensor to a NumPy Array\n",
    "a = torch.ones(5)\n",
    "print(a)\n",
    "\n",
    "b = a.numpy()\n",
    "print(b)"
   ]
  },
  {
   "cell_type": "code",
   "execution_count": 33,
   "metadata": {},
   "outputs": [
    {
     "name": "stdout",
     "output_type": "stream",
     "text": [
      "tensor([2., 2., 2., 2., 2.])\n",
      "[2. 2. 2. 2. 2.]\n"
     ]
    }
   ],
   "source": [
    "# Numpy array changed in value but added to tensor\n",
    "a.add_(1)\n",
    "print(a)\n",
    "print(b)"
   ]
  },
  {
   "cell_type": "code",
   "execution_count": 35,
   "metadata": {},
   "outputs": [
    {
     "name": "stdout",
     "output_type": "stream",
     "text": [
      "[2. 2. 2. 2. 2.]\n",
      "tensor([2., 2., 2., 2., 2.], dtype=torch.float64)\n"
     ]
    }
   ],
   "source": [
    "import numpy as np\n",
    "\n",
    "a = np.ones(5)\n",
    "b = torch.from_numpy(a)\n",
    "np.add(a, 1, out=a)\n",
    "print(a)\n",
    "print(b)"
   ]
  },
  {
   "cell_type": "code",
   "execution_count": 36,
   "metadata": {},
   "outputs": [
    {
     "name": "stdout",
     "output_type": "stream",
     "text": [
      "tensor([-1.5636], device='cuda:0')\n",
      "tensor([-1.5636], dtype=torch.float64)\n"
     ]
    }
   ],
   "source": [
    "# let us run this cell only if CUDA is available\n",
    "# We will use ``torch.device`` objects to move tensors in and out of GPU\n",
    "if torch.cuda.is_available():\n",
    "    device = torch.device(\"cuda\")          # a CUDA device object\n",
    "    y = torch.ones_like(x, device=device)  # directly create a tensor on GPU\n",
    "    x = x.to(device)                       # or just use strings ``.to(\"cuda\")``\n",
    "    z = x + y\n",
    "    print(z)\n",
    "    print(z.to(\"cpu\", torch.double))       # ``.to`` can also change dtype together!"
   ]
  },
  {
   "cell_type": "code",
   "execution_count": null,
   "metadata": {},
   "outputs": [],
   "source": []
  }
 ],
 "metadata": {
  "kernelspec": {
   "display_name": "Python 3",
   "language": "python",
   "name": "python3"
  },
  "language_info": {
   "codemirror_mode": {
    "name": "ipython",
    "version": 3
   },
   "file_extension": ".py",
   "mimetype": "text/x-python",
   "name": "python",
   "nbconvert_exporter": "python",
   "pygments_lexer": "ipython3",
   "version": "3.7.1"
  }
 },
 "nbformat": 4,
 "nbformat_minor": 2
}
